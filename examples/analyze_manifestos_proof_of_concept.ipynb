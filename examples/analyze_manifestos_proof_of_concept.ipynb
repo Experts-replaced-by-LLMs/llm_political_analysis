{
 "cells": [
  {
   "cell_type": "code",
   "execution_count": 1,
   "metadata": {},
   "outputs": [],
   "source": [
    "import pandas as pd\n",
    "import json\n",
    "\n",
    "from llm_political_analysis.modules.summarize import summarize_text\n",
    "from llm_political_analysis.modules.prompts import get_prompts, policy_areas\n",
    "from llm_political_analysis.modules.analyze import analyze_text"
   ]
  },
  {
   "cell_type": "markdown",
   "metadata": {},
   "source": [
    "### Setup the file, issue area and model you want to use"
   ]
  },
  {
   "cell_type": "code",
   "execution_count": 2,
   "metadata": {},
   "outputs": [],
   "source": [
    "# EDIT THIS WITH YOUR OWN FILE\n",
    "filepath = '../data/plaintext/0 Calibration - HUN 2010 Soc Dem.txt'\n",
    "\n",
    "# OPTIONS ARE 'european_union', 'taxation', 'lifestyle', 'immigration', 'environment', 'decentralization'\n",
    "issue_area = 'taxation'\n",
    "if issue_area not in policy_areas:\n",
    "    raise ValueError(f'Invalid issue area: {issue_area}')\n",
    "\n",
    "# OPTIONS ARE 'gpt-4o', 'gpt-4', 'gpt-3.5-turbo'\n",
    "model = \"gpt-3.5-turbo\"\n",
    "if model not in ['gpt-4o', 'gpt-4', 'gpt-3.5-turbo']:\n",
    "    raise ValueError(f'Invalid model: {model}')\n",
    "\n",
    "# Read the long manifesto text from a .txt file\n",
    "with open(filepath, 'r') as file:\n",
    "    long_manifesto_text = file.read()"
   ]
  },
  {
   "cell_type": "code",
   "execution_count": 3,
   "metadata": {},
   "outputs": [
    {
     "data": {
      "text/plain": [
       "'toward Spending versus Taxation. Classify the\\nmanifesto on this policy using a ten point scale, where a 1 means strongly\\nfavors improving public services, a 5 means the party takes a position in\\nthe middle or balanced position between raising spending and reducing\\ntaxes, and a 10 means strongly favors reducing taxes. If the text of the\\nmanifesto does not provide a clear position on spending vs taxation, return\\nthe result of NA (meaning non-applicable).'"
      ]
     },
     "execution_count": 3,
     "metadata": {},
     "output_type": "execute_result"
    }
   ],
   "source": [
    "from llm_political_analysis.modules.prompts import policy_scales\n",
    "policy_scales[issue_area]"
   ]
  },
  {
   "cell_type": "markdown",
   "metadata": {},
   "source": [
    "### Generates a summary of the chosen file, with a focus on a specific issue area\n"
   ]
  },
  {
   "cell_type": "code",
   "execution_count": 4,
   "metadata": {},
   "outputs": [
    {
     "name": "stdout",
     "output_type": "stream",
     "text": [
      "1. Increase state support for healthcare, education, culture, research, and science.\n",
      "2. Create and protect jobs through state investments and guarantees.\n",
      "3. Ensure social security for workers and retirees.\n",
      "4. Implement radical taxation on high incomes.\n",
      "5. Support wage earners through tax and contribution rebates.\n",
      "6. Establish strong labor protection and nationwide interest reconciliation based on equality.\n",
      "7. Ensure free choice of doctors and healthcare institutions.\n",
      "8. Drastically increase the income of healthcare workers.\n",
      "9. Create a health insurance fund with independent parliamentary oversight.\n",
      "10. Maintain a unified and national social insurance system in healthcare.\n",
      "11. Guarantee the value of pensions by the state, not just the constitution.\n",
      "12. Significantly increase the current low education budget.\n",
      "13. Ensure equal opportunities and freedom of education.\n",
      "14. Link vocational training contributions to the wage bill.\n",
      "15. Provide credible mass communication based on a realistic budget and pluralism.\n",
      "16. Fight corruption and bribery for a clean and transparent public life.\n",
      "17. Promote a healthy environment with clean water, air, and transportation.\n",
      "18. Increase renewable energy sources and waste recycling through state investments.\n",
      "19. Support the agricultural sector with EU and national state aid.\n",
      "20. Provide low-interest state loans for Hungarian agricultural entrepreneurs.\n",
      "21. Establish regional, county, and municipal governments with stable legal and financial foundations.\n",
      "22. Reduce the number of municipal governments by 50%.\n"
     ]
    }
   ],
   "source": [
    "# Summarize the long manifesto text\n",
    "manifesto_summary = summarize_text(long_manifesto_text, policy_areas.get(issue_area, 'general policy issues'))\n",
    "print(manifesto_summary)"
   ]
  },
  {
   "cell_type": "markdown",
   "metadata": {},
   "source": [
    "### Create a list of prompts to try\n",
    "#### If you'd like to modify the prompt list, you can either edit modules/prompts.py or create a list here"
   ]
  },
  {
   "cell_type": "code",
   "execution_count": 5,
   "metadata": {},
   "outputs": [
    {
     "name": "stdout",
     "output_type": "stream",
     "text": [
      "Got 9 prompts to try, for example: \n",
      " [{'role': 'system', 'content': 'You are an expert social scientist with a PhD in political science. This will be fun! You are conducting research on the policy positions that European parties in parliamentary democracies take in their political manifestos. Political manifestos are documents parties produce to explain their policy positions to voters in an election. For the following text of a party manifesto, please classify the party position on the overall orientation of the party toward Spending versus Taxation. Classify the manifesto on this policy using a ten point scale, where a 1 means strongly favors improving public services, a 5 means the party takes a position in the middle or balanced position between raising spending and reducing taxes, and a 10 means strongly favors reducing taxes. If the text of the manifesto does not provide a clear position on spending vs taxation, return the result of NA (meaning non-applicable).Only give the score and a one sentence explanation. Return it in the form of  a valid json string  without any Markdown formatting:  { \"score\": 5, \"explanation\": \"The party takes a middle position on this policy.\" }  '}, {'role': 'user', 'content': 'Analyze the following text:\\n\\n1. Increase state support for healthcare, education, culture, research, and science.\\n2. Create and protect jobs through state investments and guarantees.\\n3. Ensure social security for workers and retirees.\\n4. Implement radical taxation on high incomes.\\n5. Support wage earners through tax and contribution rebates.\\n6. Establish strong labor protection and nationwide interest reconciliation based on equality.\\n7. Ensure free choice of doctors and healthcare institutions.\\n8. Drastically increase the income of healthcare workers.\\n9. Create a health insurance fund with independent parliamentary oversight.\\n10. Maintain a unified and national social insurance system in healthcare.\\n11. Guarantee the value of pensions by the state, not just the constitution.\\n12. Significantly increase the current low education budget.\\n13. Ensure equal opportunities and freedom of education.\\n14. Link vocational training contributions to the wage bill.\\n15. Provide credible mass communication based on a realistic budget and pluralism.\\n16. Fight corruption and bribery for a clean and transparent public life.\\n17. Promote a healthy environment with clean water, air, and transportation.\\n18. Increase renewable energy sources and waste recycling through state investments.\\n19. Support the agricultural sector with EU and national state aid.\\n20. Provide low-interest state loans for Hungarian agricultural entrepreneurs.\\n21. Establish regional, county, and municipal governments with stable legal and financial foundations.\\n22. Reduce the number of municipal governments by 50%.'}]\n"
     ]
    }
   ],
   "source": [
    "prompts = get_prompts(issue_area, manifesto_summary)\n",
    "print(f'Got {len(prompts)} prompts to try, for example: \\n {prompts[0]}')\n"
   ]
  },
  {
   "cell_type": "markdown",
   "metadata": {},
   "source": [
    "### Iterate over the prompts and analyze the manifesto with each, collecting the results. "
   ]
  },
  {
   "cell_type": "code",
   "execution_count": 8,
   "metadata": {},
   "outputs": [
    {
     "name": "stdout",
     "output_type": "stream",
     "text": [
      "Analyzed so far: 8 out of 9 prompts\r"
     ]
    }
   ],
   "source": [
    "# Analyze the manifesto summary with different prompts\n",
    "results = []\n",
    "for prompt in prompts:\n",
    "    print(f'Analyzed so far: {len(results)} out of {len(prompts)} prompts', end='\\r')\n",
    "    response = analyze_text(prompt, model=model)\n",
    "    response_dict = json.loads(response)\n",
    "    response_dict['prompt'] = prompt\n",
    "    results.append(response_dict)"
   ]
  },
  {
   "cell_type": "code",
   "execution_count": 9,
   "metadata": {},
   "outputs": [
    {
     "data": {
      "text/html": [
       "<div>\n",
       "<style scoped>\n",
       "    .dataframe tbody tr th:only-of-type {\n",
       "        vertical-align: middle;\n",
       "    }\n",
       "\n",
       "    .dataframe tbody tr th {\n",
       "        vertical-align: top;\n",
       "    }\n",
       "\n",
       "    .dataframe thead th {\n",
       "        text-align: right;\n",
       "    }\n",
       "</style>\n",
       "<table border=\"1\" class=\"dataframe\">\n",
       "  <thead>\n",
       "    <tr style=\"text-align: right;\">\n",
       "      <th></th>\n",
       "      <th>score</th>\n",
       "      <th>explanation</th>\n",
       "      <th>prompt</th>\n",
       "      <th>filepath</th>\n",
       "      <th>issue_area</th>\n",
       "    </tr>\n",
       "  </thead>\n",
       "  <tbody>\n",
       "    <tr>\n",
       "      <th>0</th>\n",
       "      <td>1</td>\n",
       "      <td>The party strongly favors improving public ser...</td>\n",
       "      <td>[{'role': 'system', 'content': 'You are an exp...</td>\n",
       "      <td>../data/plaintext/0 Calibration - HUN 2010 Soc...</td>\n",
       "      <td>taxation</td>\n",
       "    </tr>\n",
       "    <tr>\n",
       "      <th>1</th>\n",
       "      <td>1</td>\n",
       "      <td>The party strongly favors improving public ser...</td>\n",
       "      <td>[{'role': 'system', 'content': 'You are an exp...</td>\n",
       "      <td>../data/plaintext/0 Calibration - HUN 2010 Soc...</td>\n",
       "      <td>taxation</td>\n",
       "    </tr>\n",
       "    <tr>\n",
       "      <th>2</th>\n",
       "      <td>1</td>\n",
       "      <td>The party strongly favors improving public ser...</td>\n",
       "      <td>[{'role': 'system', 'content': 'You are an exp...</td>\n",
       "      <td>../data/plaintext/0 Calibration - HUN 2010 Soc...</td>\n",
       "      <td>taxation</td>\n",
       "    </tr>\n",
       "    <tr>\n",
       "      <th>3</th>\n",
       "      <td>1</td>\n",
       "      <td>The party strongly favors improving public ser...</td>\n",
       "      <td>[{'role': 'system', 'content': 'You are highly...</td>\n",
       "      <td>../data/plaintext/0 Calibration - HUN 2010 Soc...</td>\n",
       "      <td>taxation</td>\n",
       "    </tr>\n",
       "    <tr>\n",
       "      <th>4</th>\n",
       "      <td>1</td>\n",
       "      <td>The party strongly favors improving public ser...</td>\n",
       "      <td>[{'role': 'system', 'content': 'You are highly...</td>\n",
       "      <td>../data/plaintext/0 Calibration - HUN 2010 Soc...</td>\n",
       "      <td>taxation</td>\n",
       "    </tr>\n",
       "    <tr>\n",
       "      <th>5</th>\n",
       "      <td>1</td>\n",
       "      <td>The party strongly favors improving public ser...</td>\n",
       "      <td>[{'role': 'system', 'content': 'You are highly...</td>\n",
       "      <td>../data/plaintext/0 Calibration - HUN 2010 Soc...</td>\n",
       "      <td>taxation</td>\n",
       "    </tr>\n",
       "    <tr>\n",
       "      <th>6</th>\n",
       "      <td>1</td>\n",
       "      <td>The party strongly favors improving public ser...</td>\n",
       "      <td>[{'role': 'system', 'content': 'You are a prof...</td>\n",
       "      <td>../data/plaintext/0 Calibration - HUN 2010 Soc...</td>\n",
       "      <td>taxation</td>\n",
       "    </tr>\n",
       "    <tr>\n",
       "      <th>7</th>\n",
       "      <td>1</td>\n",
       "      <td>The party strongly favors improving public ser...</td>\n",
       "      <td>[{'role': 'system', 'content': 'You are a prof...</td>\n",
       "      <td>../data/plaintext/0 Calibration - HUN 2010 Soc...</td>\n",
       "      <td>taxation</td>\n",
       "    </tr>\n",
       "    <tr>\n",
       "      <th>8</th>\n",
       "      <td>1</td>\n",
       "      <td>The party strongly favors improving public ser...</td>\n",
       "      <td>[{'role': 'system', 'content': 'You are a prof...</td>\n",
       "      <td>../data/plaintext/0 Calibration - HUN 2010 Soc...</td>\n",
       "      <td>taxation</td>\n",
       "    </tr>\n",
       "  </tbody>\n",
       "</table>\n",
       "</div>"
      ],
      "text/plain": [
       "   score                                        explanation  \\\n",
       "0      1  The party strongly favors improving public ser...   \n",
       "1      1  The party strongly favors improving public ser...   \n",
       "2      1  The party strongly favors improving public ser...   \n",
       "3      1  The party strongly favors improving public ser...   \n",
       "4      1  The party strongly favors improving public ser...   \n",
       "5      1  The party strongly favors improving public ser...   \n",
       "6      1  The party strongly favors improving public ser...   \n",
       "7      1  The party strongly favors improving public ser...   \n",
       "8      1  The party strongly favors improving public ser...   \n",
       "\n",
       "                                              prompt  \\\n",
       "0  [{'role': 'system', 'content': 'You are an exp...   \n",
       "1  [{'role': 'system', 'content': 'You are an exp...   \n",
       "2  [{'role': 'system', 'content': 'You are an exp...   \n",
       "3  [{'role': 'system', 'content': 'You are highly...   \n",
       "4  [{'role': 'system', 'content': 'You are highly...   \n",
       "5  [{'role': 'system', 'content': 'You are highly...   \n",
       "6  [{'role': 'system', 'content': 'You are a prof...   \n",
       "7  [{'role': 'system', 'content': 'You are a prof...   \n",
       "8  [{'role': 'system', 'content': 'You are a prof...   \n",
       "\n",
       "                                            filepath issue_area  \n",
       "0  ../data/plaintext/0 Calibration - HUN 2010 Soc...   taxation  \n",
       "1  ../data/plaintext/0 Calibration - HUN 2010 Soc...   taxation  \n",
       "2  ../data/plaintext/0 Calibration - HUN 2010 Soc...   taxation  \n",
       "3  ../data/plaintext/0 Calibration - HUN 2010 Soc...   taxation  \n",
       "4  ../data/plaintext/0 Calibration - HUN 2010 Soc...   taxation  \n",
       "5  ../data/plaintext/0 Calibration - HUN 2010 Soc...   taxation  \n",
       "6  ../data/plaintext/0 Calibration - HUN 2010 Soc...   taxation  \n",
       "7  ../data/plaintext/0 Calibration - HUN 2010 Soc...   taxation  \n",
       "8  ../data/plaintext/0 Calibration - HUN 2010 Soc...   taxation  "
      ]
     },
     "execution_count": 9,
     "metadata": {},
     "output_type": "execute_result"
    }
   ],
   "source": [
    "# Display the results in a DataFrame\n",
    "df_results = pd.DataFrame(results)\n",
    "df_results['filepath'] = filepath\n",
    "df_results['issue_area'] = issue_area\n",
    "df_results"
   ]
  },
  {
   "cell_type": "code",
   "execution_count": 10,
   "metadata": {},
   "outputs": [
    {
     "data": {
      "text/plain": [
       "<Axes: >"
      ]
     },
     "execution_count": 10,
     "metadata": {},
     "output_type": "execute_result"
    },
    {
     "data": {
      "image/png": "[encoded data removed]",
      "text/plain": [
       "<Figure size 640x480 with 1 Axes>"
      ]
     },
     "metadata": {},
     "output_type": "display_data"
    }
   ],
   "source": [
    "df_results.score.hist()"
   ]
  },
  {
   "cell_type": "code",
   "execution_count": 11,
   "metadata": {},
   "outputs": [],
   "source": [
    "df_results.to_excel('manifesto_analysis_results.xlsx', index=False)"
   ]
  },
  {
   "cell_type": "code",
   "execution_count": null,
   "metadata": {},
   "outputs": [],
   "source": []
  }
 ],
 "metadata": {
  "kernelspec": {
   "display_name": "data_analysis",
   "language": "python",
   "name": "python3"
  },
  "language_info": {
   "codemirror_mode": {
    "name": "ipython",
    "version": 3
   },
   "file_extension": ".py",
   "mimetype": "text/x-python",
   "name": "python",
   "nbconvert_exporter": "python",
   "pygments_lexer": "ipython3",
   "version": "3.11.8"
  }
 },
 "nbformat": 4,
 "nbformat_minor": 2
}
