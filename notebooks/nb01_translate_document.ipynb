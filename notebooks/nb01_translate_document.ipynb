{
 "cells": [
  {
   "metadata": {
    "ExecuteTime": {
     "end_time": "2024-08-09T00:06:57.840922Z",
     "start_time": "2024-08-09T00:06:56.988938Z"
    }
   },
   "cell_type": "code",
   "source": [
    "import os\n",
    "import time\n",
    "from datetime import date\n",
    "\n",
    "from llm_political_analysis.modules.translate import batch_translate_text, detect_language\n",
    "from llm_political_analysis.modules.store import list_gcs_folder, read_gcs_file, download_gcs_file"
   ],
   "id": "44f4047f220d1457",
   "execution_count": 1,
   "outputs": []
  },
  {
   "metadata": {
    "ExecuteTime": {
     "end_time": "2024-08-09T00:06:57.856750Z",
     "start_time": "2024-08-09T00:06:57.841920Z"
    }
   },
   "cell_type": "code",
   "source": [
    "def download_translate_output_file(folder: str, filename: str, base_output_folder: str, download_folder: str = \"./\"):\n",
    "    translation_output = f\"{base_output_folder}/translation-{filename.split('/')[-1].split('.')[0].replace(' ', '').lower()}/llms-as-experts_{folder.replace('/', '_')}{filename.replace(folder, '').split('.')[0]}_en_translations.txt\"\n",
    "\n",
    "    download_output = os.path.join(\n",
    "        download_folder,\n",
    "        f\"{filename.replace(folder, '').split('.')[0]}_en_translation.txt\"\n",
    "    )\n",
    "    print(f\"Downloading {download_output} ...\")\n",
    "    download_gcs_file(\n",
    "        download_output,\n",
    "        translation_output\n",
    "    )\n",
    "\n",
    "def translate_file_in_folder(\n",
    "        folder: str, base_output_folder: str, log_file:str=None, download_folder: str=\"./\"\n",
    "):\n",
    "    for filename in list_gcs_folder(folder):\n",
    "        if filename == folder:\n",
    "            # Skip the folder itself\n",
    "            continue\n",
    "        print(filename)\n",
    "        # Google batch translate requires the result to be output to an empty folder, so we create a unique folder for each file \n",
    "        file_output_folder = f\"{base_output_folder}/translation-{filename.split('/')[-1].split('.')[0].replace(' ', '').lower()}\"\n",
    "        source_language_code = detect_language(\n",
    "            read_gcs_file(blob_name=filename)\n",
    "        )\n",
    "        if source_language_code == \"en\":\n",
    "            print(f\"Skip {filename}.\")\n",
    "            continue\n",
    "        if log_file:\n",
    "            try:\n",
    "                with open(\n",
    "                        os.path.join(download_folder, \"detected_languages.txt\"), \"a\", encoding=\"utf-8\"\n",
    "                ) as f:\n",
    "                    f.write(str((filename, source_language_code)))\n",
    "                    f.write(\"\\n\")\n",
    "            except:\n",
    "                pass\n",
    "        translation_res = batch_translate_text(\n",
    "            filename,\n",
    "            file_output_folder,\n",
    "            source_language_code=source_language_code\n",
    "        )\n",
    "        print(translation_res)\n",
    "        download_translate_output_file(folder, filename, base_output_folder, download_folder)"
   ],
   "id": "2c2676ba647fc40",
   "execution_count": 2,
   "outputs": []
  },
  {
   "metadata": {
    "ExecuteTime": {
     "end_time": "2024-08-09T00:31:08.461425Z",
     "start_time": "2024-08-09T00:06:57.858756Z"
    }
   },
   "cell_type": "code",
   "source": [
    "folders = [\"plaintext/new_calibration/\", \"plaintext/new_test/\"]\n",
    "base_output_folder_ = f\"translation-{date.today()}-{int(time.time())}\"\n",
    "download_folder_ = \"../data/translation\"\n",
    "log_file_ = os.path.join(download_folder_, \"detected_languages.txt\")\n",
    "for folder_name in folders:\n",
    "    translate_file_in_folder(folder_name, base_output_folder_, log_file_, download_folder_)"
   ],
   "id": "cc3b3eb59b5309bf",
   "execution_count": 3,
   "outputs": []
  }
 ],
 "metadata": {
  "kernelspec": {
   "display_name": "Python 3",
   "language": "python",
   "name": "python3"
  },
  "language_info": {
   "codemirror_mode": {
    "name": "ipython",
    "version": 2
   },
   "file_extension": ".py",
   "mimetype": "text/x-python",
   "name": "python",
   "nbconvert_exporter": "python",
   "pygments_lexer": "ipython2",
   "version": "2.7.6"
  }
 },
 "nbformat": 4,
 "nbformat_minor": 5
}
