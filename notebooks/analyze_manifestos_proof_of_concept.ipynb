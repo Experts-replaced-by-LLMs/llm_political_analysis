{
 "cells": [
  {
   "cell_type": "code",
   "execution_count": 1,
   "metadata": {},
   "outputs": [],
   "source": [
    "import pandas as pd\n",
    "\n",
    "from llm_political_analysis.modules.summarize import summarize_text\n",
    "from llm_political_analysis.modules.prompts import get_prompts, policy_areas\n",
    "from llm_political_analysis.modules.analyze import analyze_text"
   ]
  },
  {
   "cell_type": "markdown",
   "metadata": {},
   "source": [
    "### Setup the file, issue area and model you want to use"
   ]
  },
  {
   "cell_type": "code",
   "execution_count": 17,
   "metadata": {},
   "outputs": [],
   "source": [
    "# EDIT THIS WITH YOUR OWN FILE\n",
    "filepath = '../data/plaintext/0 Calibration - HUN 2010 Soc Dem.txt'\n",
    "\n",
    "# OPTIONS ARE 'european_union', 'taxation', 'lifestyle', 'immigration', 'environment', 'decentralization'\n",
    "issue_area = 'taxation'\n",
    "if issue_area not in policy_areas:\n",
    "    raise ValueError(f'Invalid issue area: {issue_area}')\n",
    "\n",
    "# OPTIONS ARE 'gpt-4o', 'gpt-4', 'gpt-3.5-turbo'\n",
    "model = 'gpt-4'\n",
    "if model not in ['gpt-4o', 'gpt-4', 'gpt-3.5-turbo']:\n",
    "    raise ValueError(f'Invalid model: {model}')\n",
    "\n",
    "# Read the long manifesto text from a .txt file\n",
    "with open(filepath, 'r') as file:\n",
    "    long_manifesto_text = file.read()"
   ]
  },
  {
   "cell_type": "markdown",
   "metadata": {},
   "source": [
    "### Generates a summary of the chosen file, with a focus on a specific issue area\n"
   ]
  },
  {
   "cell_type": "code",
   "execution_count": 4,
   "metadata": {},
   "outputs": [
    {
     "name": "stdout",
     "output_type": "stream",
     "text": [
      "1. Protection of democracy and parliamentary republic.\n",
      "2. Protection of minority rights and support for Hungarian minorities abroad.\n",
      "3. Significant increase in state support for healthcare, education, culture, research, and science.\n",
      "4. Job creation and protection through state investments and guarantees; radical taxation of high incomes; support for wage earners through tax and contribution refunds.\n",
      "5. Free choice of doctors and healthcare institutions; significant salary increase for healthcare workers.\n",
      "6. Establishment of a health insurance fund with independent parliamentary oversight; maintenance of unified national social insurance.\n",
      "7. State-guaranteed pension value stability; retirement after 40 years of service upon request.\n",
      "8. Significant increase in the education budget; equal opportunities and freedom in education; compulsory schooling tied to completing 8 grades.\n",
      "9. Credible mass communication based on a realistic budget and plurality; fight against corruption and bribery.\n",
      "10. Healthy environment; clean water, air, and transportation; significant increase in renewable energy and waste recycling through state investments.\n",
      "11. Effective operation of the agricultural sector with EU and national support; favorable state loans for Hungarian agricultural entrepreneurs.\n",
      "12. Creation of regional, county, and municipal governments with stable legal and financial foundations; 50% reduction in the number of municipal governments.\n"
     ]
    }
   ],
   "source": [
    "# Summarize the long manifesto text\n",
    "manifesto_summary = summarize_text(long_manifesto_text, policy_areas.get(issue_area, 'general policy issues'))\n",
    "print(manifesto_summary)"
   ]
  },
  {
   "cell_type": "markdown",
   "metadata": {},
   "source": [
    "### Create a list of prompts to try\n",
    "#### If you'd like to modify the prompt list, you can either edit modules/prompts.py or create a list here"
   ]
  },
  {
   "cell_type": "code",
   "execution_count": 5,
   "metadata": {},
   "outputs": [
    {
     "name": "stdout",
     "output_type": "stream",
     "text": [
      "Got 9 prompts to try, for example: \n",
      " [{'role': 'system', 'content': 'You are an expert social scientist with a PhD in political science. This will be fun! You are conducting research on the policy positions that European parties in parliamentary democracies take in their political manifestos. Political manifestos are documents parties produce to explain their policy positions to voters in an election. For the following text of a party manifesto, please classify the party position on the overall orientation of the party toward Spending versus Taxation. Classify the manifesto on this policy using a ten point scale, where a 1 means strongly favors improving public services, a 5 means the party takes a position in the middle or balanced position between raising spending and reducing taxes, and a 10 means strongly favors reducing taxes. If the text of the manifesto does not provide a clear position on spending vs taxation, return the result of NA (meaning non-applicable).Only give the score and a one sentence explanation. Return it in the form of  a valid json string  without any Markdown formatting:  { \"score\": 5, \"explanation\": \"The party takes a middle position on this policy.\" }  '}, {'role': 'user', 'content': 'Analyze the following text:\\n\\n1. Protection of democracy and parliamentary republic.\\n2. Protection of minority rights and support for Hungarian minorities abroad.\\n3. Significant increase in state support for healthcare, education, culture, research, and science.\\n4. Job creation and protection through state investments and guarantees; radical taxation of high incomes; support for wage earners through tax and contribution refunds.\\n5. Free choice of doctors and healthcare institutions; significant salary increase for healthcare workers.\\n6. Establishment of a health insurance fund with independent parliamentary oversight; maintenance of unified national social insurance.\\n7. State-guaranteed pension value stability; retirement after 40 years of service upon request.\\n8. Significant increase in the education budget; equal opportunities and freedom in education; compulsory schooling tied to completing 8 grades.\\n9. Credible mass communication based on a realistic budget and plurality; fight against corruption and bribery.\\n10. Healthy environment; clean water, air, and transportation; significant increase in renewable energy and waste recycling through state investments.\\n11. Effective operation of the agricultural sector with EU and national support; favorable state loans for Hungarian agricultural entrepreneurs.\\n12. Creation of regional, county, and municipal governments with stable legal and financial foundations; 50% reduction in the number of municipal governments.'}]\n"
     ]
    }
   ],
   "source": [
    "prompts = get_prompts(issue_area, manifesto_summary)\n",
    "print(f'Got {len(prompts)} prompts to try, for example: \\n {prompts[0]}')\n"
   ]
  },
  {
   "cell_type": "markdown",
   "metadata": {},
   "source": [
    "### Iterate over the prompts and analyze the manifesto with each, collecting the results. "
   ]
  },
  {
   "cell_type": "code",
   "execution_count": 18,
   "metadata": {},
   "outputs": [
    {
     "name": "stdout",
     "output_type": "stream",
     "text": [
      "{'score': 2, 'explanation': 'The party strongly favors improving public services and supports higher taxation for high incomes.', 'prob': 0.8491306054922858, 'prompt': [{'role': 'system', 'content': 'You are an expert social scientist with a PhD in political science. This will be fun! You are conducting research on the policy positions that European parties in parliamentary democracies take in their political manifestos. Political manifestos are documents parties produce to explain their policy positions to voters in an election. For the following text of a party manifesto, please classify the party position on the overall orientation of the party toward Spending versus Taxation. Classify the manifesto on this policy using a ten point scale, where a 1 means strongly favors improving public services, a 5 means the party takes a position in the middle or balanced position between raising spending and reducing taxes, and a 10 means strongly favors reducing taxes. If the text of the manifesto does not provide a clear position on spending vs taxation, return the result of NA (meaning non-applicable).Only give the score and a one sentence explanation. Return it in the form of  a valid json string  without any Markdown formatting:  { \"score\": 5, \"explanation\": \"The party takes a middle position on this policy.\" }  '}, {'role': 'user', 'content': 'Analyze the following text:\\n\\n1. Protection of democracy and parliamentary republic.\\n2. Protection of minority rights and support for Hungarian minorities abroad.\\n3. Significant increase in state support for healthcare, education, culture, research, and science.\\n4. Job creation and protection through state investments and guarantees; radical taxation of high incomes; support for wage earners through tax and contribution refunds.\\n5. Free choice of doctors and healthcare institutions; significant salary increase for healthcare workers.\\n6. Establishment of a health insurance fund with independent parliamentary oversight; maintenance of unified national social insurance.\\n7. State-guaranteed pension value stability; retirement after 40 years of service upon request.\\n8. Significant increase in the education budget; equal opportunities and freedom in education; compulsory schooling tied to completing 8 grades.\\n9. Credible mass communication based on a realistic budget and plurality; fight against corruption and bribery.\\n10. Healthy environment; clean water, air, and transportation; significant increase in renewable energy and waste recycling through state investments.\\n11. Effective operation of the agricultural sector with EU and national support; favorable state loans for Hungarian agricultural entrepreneurs.\\n12. Creation of regional, county, and municipal governments with stable legal and financial foundations; 50% reduction in the number of municipal governments.'}]}\n",
      "{'score': 2, 'explanation': 'The party strongly favors improving public services and supports increased state spending in various sectors, with only a slight emphasis on taxation of high incomes.', 'prob': 0.8664753222810563, 'prompt': [{'role': 'system', 'content': 'You are an expert social scientist with a PhD in political science. Think carefully about your answer. You are conducting research on the policy positions that European parties in parliamentary democracies take in their political manifestos. Political manifestos are documents parties produce to explain their policy positions to voters in an election. For the following text of a party manifesto, please classify the party position on the overall orientation of the party toward Spending versus Taxation. Classify the manifesto on this policy using a ten point scale, where a 1 means strongly favors improving public services, a 5 means the party takes a position in the middle or balanced position between raising spending and reducing taxes, and a 10 means strongly favors reducing taxes. If the text of the manifesto does not provide a clear position on spending vs taxation, return the result of NA (meaning non-applicable).Only give the score and a one sentence explanation. Return it in the form of  a valid json string  without any Markdown formatting:  { \"score\": 5, \"explanation\": \"The party takes a middle position on this policy.\" }  '}, {'role': 'user', 'content': 'Analyze the following text:\\n\\n1. Protection of democracy and parliamentary republic.\\n2. Protection of minority rights and support for Hungarian minorities abroad.\\n3. Significant increase in state support for healthcare, education, culture, research, and science.\\n4. Job creation and protection through state investments and guarantees; radical taxation of high incomes; support for wage earners through tax and contribution refunds.\\n5. Free choice of doctors and healthcare institutions; significant salary increase for healthcare workers.\\n6. Establishment of a health insurance fund with independent parliamentary oversight; maintenance of unified national social insurance.\\n7. State-guaranteed pension value stability; retirement after 40 years of service upon request.\\n8. Significant increase in the education budget; equal opportunities and freedom in education; compulsory schooling tied to completing 8 grades.\\n9. Credible mass communication based on a realistic budget and plurality; fight against corruption and bribery.\\n10. Healthy environment; clean water, air, and transportation; significant increase in renewable energy and waste recycling through state investments.\\n11. Effective operation of the agricultural sector with EU and national support; favorable state loans for Hungarian agricultural entrepreneurs.\\n12. Creation of regional, county, and municipal governments with stable legal and financial foundations; 50% reduction in the number of municipal governments.'}]}\n",
      "{'score': 2, 'explanation': 'The party strongly favors improving public services and supports increased state spending in various sectors, with only a slight emphasis on taxation of high incomes.', 'prob': 0.8950928258964536, 'prompt': [{'role': 'system', 'content': 'You are an expert social scientist with a PhD in political science. I really need your help. You are conducting research on the policy positions that European parties in parliamentary democracies take in their political manifestos. Political manifestos are documents parties produce to explain their policy positions to voters in an election. For the following text of a party manifesto, please classify the party position on the overall orientation of the party toward Spending versus Taxation. Classify the manifesto on this policy using a ten point scale, where a 1 means strongly favors improving public services, a 5 means the party takes a position in the middle or balanced position between raising spending and reducing taxes, and a 10 means strongly favors reducing taxes. If the text of the manifesto does not provide a clear position on spending vs taxation, return the result of NA (meaning non-applicable).Only give the score and a one sentence explanation. Return it in the form of  a valid json string  without any Markdown formatting:  { \"score\": 5, \"explanation\": \"The party takes a middle position on this policy.\" }  '}, {'role': 'user', 'content': 'Analyze the following text:\\n\\n1. Protection of democracy and parliamentary republic.\\n2. Protection of minority rights and support for Hungarian minorities abroad.\\n3. Significant increase in state support for healthcare, education, culture, research, and science.\\n4. Job creation and protection through state investments and guarantees; radical taxation of high incomes; support for wage earners through tax and contribution refunds.\\n5. Free choice of doctors and healthcare institutions; significant salary increase for healthcare workers.\\n6. Establishment of a health insurance fund with independent parliamentary oversight; maintenance of unified national social insurance.\\n7. State-guaranteed pension value stability; retirement after 40 years of service upon request.\\n8. Significant increase in the education budget; equal opportunities and freedom in education; compulsory schooling tied to completing 8 grades.\\n9. Credible mass communication based on a realistic budget and plurality; fight against corruption and bribery.\\n10. Healthy environment; clean water, air, and transportation; significant increase in renewable energy and waste recycling through state investments.\\n11. Effective operation of the agricultural sector with EU and national support; favorable state loans for Hungarian agricultural entrepreneurs.\\n12. Creation of regional, county, and municipal governments with stable legal and financial foundations; 50% reduction in the number of municipal governments.'}]}\n",
      "{'score': 2, 'explanation': 'The party strongly favors improving public services and supports higher taxation for high incomes.', 'prob': 0.9296777065450398, 'prompt': [{'role': 'system', 'content': 'You are highly intelligent. This will be fun! You are conducting research on the policy positions that European parties in parliamentary democracies take in their political manifestos. Political manifestos are documents parties produce to explain their policy positions to voters in an election. For the following text of a party manifesto, please classify the party position on the overall orientation of the party toward Spending versus Taxation. Classify the manifesto on this policy using a ten point scale, where a 1 means strongly favors improving public services, a 5 means the party takes a position in the middle or balanced position between raising spending and reducing taxes, and a 10 means strongly favors reducing taxes. If the text of the manifesto does not provide a clear position on spending vs taxation, return the result of NA (meaning non-applicable).Only give the score and a one sentence explanation. Return it in the form of  a valid json string  without any Markdown formatting:  { \"score\": 5, \"explanation\": \"The party takes a middle position on this policy.\" }  '}, {'role': 'user', 'content': 'Analyze the following text:\\n\\n1. Protection of democracy and parliamentary republic.\\n2. Protection of minority rights and support for Hungarian minorities abroad.\\n3. Significant increase in state support for healthcare, education, culture, research, and science.\\n4. Job creation and protection through state investments and guarantees; radical taxation of high incomes; support for wage earners through tax and contribution refunds.\\n5. Free choice of doctors and healthcare institutions; significant salary increase for healthcare workers.\\n6. Establishment of a health insurance fund with independent parliamentary oversight; maintenance of unified national social insurance.\\n7. State-guaranteed pension value stability; retirement after 40 years of service upon request.\\n8. Significant increase in the education budget; equal opportunities and freedom in education; compulsory schooling tied to completing 8 grades.\\n9. Credible mass communication based on a realistic budget and plurality; fight against corruption and bribery.\\n10. Healthy environment; clean water, air, and transportation; significant increase in renewable energy and waste recycling through state investments.\\n11. Effective operation of the agricultural sector with EU and national support; favorable state loans for Hungarian agricultural entrepreneurs.\\n12. Creation of regional, county, and municipal governments with stable legal and financial foundations; 50% reduction in the number of municipal governments.'}]}\n",
      "{'score': 2, 'explanation': 'The party strongly favors improving public services and supports increased state spending in various sectors, with some emphasis on taxation of high incomes.', 'prob': 0.9143685465539834, 'prompt': [{'role': 'system', 'content': 'You are highly intelligent. Think carefully about your answer. You are conducting research on the policy positions that European parties in parliamentary democracies take in their political manifestos. Political manifestos are documents parties produce to explain their policy positions to voters in an election. For the following text of a party manifesto, please classify the party position on the overall orientation of the party toward Spending versus Taxation. Classify the manifesto on this policy using a ten point scale, where a 1 means strongly favors improving public services, a 5 means the party takes a position in the middle or balanced position between raising spending and reducing taxes, and a 10 means strongly favors reducing taxes. If the text of the manifesto does not provide a clear position on spending vs taxation, return the result of NA (meaning non-applicable).Only give the score and a one sentence explanation. Return it in the form of  a valid json string  without any Markdown formatting:  { \"score\": 5, \"explanation\": \"The party takes a middle position on this policy.\" }  '}, {'role': 'user', 'content': 'Analyze the following text:\\n\\n1. Protection of democracy and parliamentary republic.\\n2. Protection of minority rights and support for Hungarian minorities abroad.\\n3. Significant increase in state support for healthcare, education, culture, research, and science.\\n4. Job creation and protection through state investments and guarantees; radical taxation of high incomes; support for wage earners through tax and contribution refunds.\\n5. Free choice of doctors and healthcare institutions; significant salary increase for healthcare workers.\\n6. Establishment of a health insurance fund with independent parliamentary oversight; maintenance of unified national social insurance.\\n7. State-guaranteed pension value stability; retirement after 40 years of service upon request.\\n8. Significant increase in the education budget; equal opportunities and freedom in education; compulsory schooling tied to completing 8 grades.\\n9. Credible mass communication based on a realistic budget and plurality; fight against corruption and bribery.\\n10. Healthy environment; clean water, air, and transportation; significant increase in renewable energy and waste recycling through state investments.\\n11. Effective operation of the agricultural sector with EU and national support; favorable state loans for Hungarian agricultural entrepreneurs.\\n12. Creation of regional, county, and municipal governments with stable legal and financial foundations; 50% reduction in the number of municipal governments.'}]}\n",
      "{'score': 2, 'explanation': 'The party strongly favors improving public services and supports increased state spending in various sectors.', 'prob': 0.8596933096701875, 'prompt': [{'role': 'system', 'content': 'You are highly intelligent. I really need your help. You are conducting research on the policy positions that European parties in parliamentary democracies take in their political manifestos. Political manifestos are documents parties produce to explain their policy positions to voters in an election. For the following text of a party manifesto, please classify the party position on the overall orientation of the party toward Spending versus Taxation. Classify the manifesto on this policy using a ten point scale, where a 1 means strongly favors improving public services, a 5 means the party takes a position in the middle or balanced position between raising spending and reducing taxes, and a 10 means strongly favors reducing taxes. If the text of the manifesto does not provide a clear position on spending vs taxation, return the result of NA (meaning non-applicable).Only give the score and a one sentence explanation. Return it in the form of  a valid json string  without any Markdown formatting:  { \"score\": 5, \"explanation\": \"The party takes a middle position on this policy.\" }  '}, {'role': 'user', 'content': 'Analyze the following text:\\n\\n1. Protection of democracy and parliamentary republic.\\n2. Protection of minority rights and support for Hungarian minorities abroad.\\n3. Significant increase in state support for healthcare, education, culture, research, and science.\\n4. Job creation and protection through state investments and guarantees; radical taxation of high incomes; support for wage earners through tax and contribution refunds.\\n5. Free choice of doctors and healthcare institutions; significant salary increase for healthcare workers.\\n6. Establishment of a health insurance fund with independent parliamentary oversight; maintenance of unified national social insurance.\\n7. State-guaranteed pension value stability; retirement after 40 years of service upon request.\\n8. Significant increase in the education budget; equal opportunities and freedom in education; compulsory schooling tied to completing 8 grades.\\n9. Credible mass communication based on a realistic budget and plurality; fight against corruption and bribery.\\n10. Healthy environment; clean water, air, and transportation; significant increase in renewable energy and waste recycling through state investments.\\n11. Effective operation of the agricultural sector with EU and national support; favorable state loans for Hungarian agricultural entrepreneurs.\\n12. Creation of regional, county, and municipal governments with stable legal and financial foundations; 50% reduction in the number of municipal governments.'}]}\n",
      "{'score': 2, 'explanation': 'The party strongly favors improving public services and increasing state spending, with some emphasis on taxation of high incomes.', 'prob': 0.9062934909055402, 'prompt': [{'role': 'system', 'content': 'You are a professor of economics. This will be fun! You are conducting research on the policy positions that European parties in parliamentary democracies take in their political manifestos. Political manifestos are documents parties produce to explain their policy positions to voters in an election. For the following text of a party manifesto, please classify the party position on the overall orientation of the party toward Spending versus Taxation. Classify the manifesto on this policy using a ten point scale, where a 1 means strongly favors improving public services, a 5 means the party takes a position in the middle or balanced position between raising spending and reducing taxes, and a 10 means strongly favors reducing taxes. If the text of the manifesto does not provide a clear position on spending vs taxation, return the result of NA (meaning non-applicable).Only give the score and a one sentence explanation. Return it in the form of  a valid json string  without any Markdown formatting:  { \"score\": 5, \"explanation\": \"The party takes a middle position on this policy.\" }  '}, {'role': 'user', 'content': 'Analyze the following text:\\n\\n1. Protection of democracy and parliamentary republic.\\n2. Protection of minority rights and support for Hungarian minorities abroad.\\n3. Significant increase in state support for healthcare, education, culture, research, and science.\\n4. Job creation and protection through state investments and guarantees; radical taxation of high incomes; support for wage earners through tax and contribution refunds.\\n5. Free choice of doctors and healthcare institutions; significant salary increase for healthcare workers.\\n6. Establishment of a health insurance fund with independent parliamentary oversight; maintenance of unified national social insurance.\\n7. State-guaranteed pension value stability; retirement after 40 years of service upon request.\\n8. Significant increase in the education budget; equal opportunities and freedom in education; compulsory schooling tied to completing 8 grades.\\n9. Credible mass communication based on a realistic budget and plurality; fight against corruption and bribery.\\n10. Healthy environment; clean water, air, and transportation; significant increase in renewable energy and waste recycling through state investments.\\n11. Effective operation of the agricultural sector with EU and national support; favorable state loans for Hungarian agricultural entrepreneurs.\\n12. Creation of regional, county, and municipal governments with stable legal and financial foundations; 50% reduction in the number of municipal governments.'}]}\n",
      "{'score': 2, 'explanation': 'The party strongly favors improving public services and supports increased state spending in various sectors, with some emphasis on taxation of high incomes.', 'prob': 0.8949405119601029, 'prompt': [{'role': 'system', 'content': 'You are a professor of economics. Think carefully about your answer. You are conducting research on the policy positions that European parties in parliamentary democracies take in their political manifestos. Political manifestos are documents parties produce to explain their policy positions to voters in an election. For the following text of a party manifesto, please classify the party position on the overall orientation of the party toward Spending versus Taxation. Classify the manifesto on this policy using a ten point scale, where a 1 means strongly favors improving public services, a 5 means the party takes a position in the middle or balanced position between raising spending and reducing taxes, and a 10 means strongly favors reducing taxes. If the text of the manifesto does not provide a clear position on spending vs taxation, return the result of NA (meaning non-applicable).Only give the score and a one sentence explanation. Return it in the form of  a valid json string  without any Markdown formatting:  { \"score\": 5, \"explanation\": \"The party takes a middle position on this policy.\" }  '}, {'role': 'user', 'content': 'Analyze the following text:\\n\\n1. Protection of democracy and parliamentary republic.\\n2. Protection of minority rights and support for Hungarian minorities abroad.\\n3. Significant increase in state support for healthcare, education, culture, research, and science.\\n4. Job creation and protection through state investments and guarantees; radical taxation of high incomes; support for wage earners through tax and contribution refunds.\\n5. Free choice of doctors and healthcare institutions; significant salary increase for healthcare workers.\\n6. Establishment of a health insurance fund with independent parliamentary oversight; maintenance of unified national social insurance.\\n7. State-guaranteed pension value stability; retirement after 40 years of service upon request.\\n8. Significant increase in the education budget; equal opportunities and freedom in education; compulsory schooling tied to completing 8 grades.\\n9. Credible mass communication based on a realistic budget and plurality; fight against corruption and bribery.\\n10. Healthy environment; clean water, air, and transportation; significant increase in renewable energy and waste recycling through state investments.\\n11. Effective operation of the agricultural sector with EU and national support; favorable state loans for Hungarian agricultural entrepreneurs.\\n12. Creation of regional, county, and municipal governments with stable legal and financial foundations; 50% reduction in the number of municipal governments.'}]}\n",
      "{'score': 2, 'explanation': 'The party strongly favors improving public services and increasing state support in various sectors, with only some emphasis on taxation.', 'prob': 0.8366747786280871, 'prompt': [{'role': 'system', 'content': 'You are a professor of economics. I really need your help. You are conducting research on the policy positions that European parties in parliamentary democracies take in their political manifestos. Political manifestos are documents parties produce to explain their policy positions to voters in an election. For the following text of a party manifesto, please classify the party position on the overall orientation of the party toward Spending versus Taxation. Classify the manifesto on this policy using a ten point scale, where a 1 means strongly favors improving public services, a 5 means the party takes a position in the middle or balanced position between raising spending and reducing taxes, and a 10 means strongly favors reducing taxes. If the text of the manifesto does not provide a clear position on spending vs taxation, return the result of NA (meaning non-applicable).Only give the score and a one sentence explanation. Return it in the form of  a valid json string  without any Markdown formatting:  { \"score\": 5, \"explanation\": \"The party takes a middle position on this policy.\" }  '}, {'role': 'user', 'content': 'Analyze the following text:\\n\\n1. Protection of democracy and parliamentary republic.\\n2. Protection of minority rights and support for Hungarian minorities abroad.\\n3. Significant increase in state support for healthcare, education, culture, research, and science.\\n4. Job creation and protection through state investments and guarantees; radical taxation of high incomes; support for wage earners through tax and contribution refunds.\\n5. Free choice of doctors and healthcare institutions; significant salary increase for healthcare workers.\\n6. Establishment of a health insurance fund with independent parliamentary oversight; maintenance of unified national social insurance.\\n7. State-guaranteed pension value stability; retirement after 40 years of service upon request.\\n8. Significant increase in the education budget; equal opportunities and freedom in education; compulsory schooling tied to completing 8 grades.\\n9. Credible mass communication based on a realistic budget and plurality; fight against corruption and bribery.\\n10. Healthy environment; clean water, air, and transportation; significant increase in renewable energy and waste recycling through state investments.\\n11. Effective operation of the agricultural sector with EU and national support; favorable state loans for Hungarian agricultural entrepreneurs.\\n12. Creation of regional, county, and municipal governments with stable legal and financial foundations; 50% reduction in the number of municipal governments.'}]}\n"
     ]
    }
   ],
   "source": [
    "# Analyze the manifesto summary with different prompts\n",
    "results = []\n",
    "for prompt in prompts:\n",
    "    print(f'Analyzed so far: {len(results)} out of {len(prompts)} prompts', end='\\r')\n",
    "    response_dict = analyze_text(prompt, model=model, probabilities=True)\n",
    "    response_dict['prompt'] = prompt\n",
    "    print(response_dict)\n",
    "    results.append(response_dict)"
   ]
  },
  {
   "cell_type": "code",
   "execution_count": 11,
   "metadata": {},
   "outputs": [
    {
     "data": {
      "text/html": [
       "<div>\n",
       "<style scoped>\n",
       "    .dataframe tbody tr th:only-of-type {\n",
       "        vertical-align: middle;\n",
       "    }\n",
       "\n",
       "    .dataframe tbody tr th {\n",
       "        vertical-align: top;\n",
       "    }\n",
       "\n",
       "    .dataframe thead th {\n",
       "        text-align: right;\n",
       "    }\n",
       "</style>\n",
       "<table border=\"1\" class=\"dataframe\">\n",
       "  <thead>\n",
       "    <tr style=\"text-align: right;\">\n",
       "      <th></th>\n",
       "      <th>score</th>\n",
       "      <th>explanation</th>\n",
       "      <th>prob</th>\n",
       "      <th>prompt</th>\n",
       "      <th>filepath</th>\n",
       "      <th>issue_area</th>\n",
       "    </tr>\n",
       "  </thead>\n",
       "  <tbody>\n",
       "    <tr>\n",
       "      <th>0</th>\n",
       "      <td>2</td>\n",
       "      <td>The manifesto strongly emphasizes increasing s...</td>\n",
       "      <td>0.773219</td>\n",
       "      <td>[{'role': 'system', 'content': 'You are an exp...</td>\n",
       "      <td>../data/plaintext/0 Calibration - HUN 2010 Soc...</td>\n",
       "      <td>taxation</td>\n",
       "    </tr>\n",
       "    <tr>\n",
       "      <th>1</th>\n",
       "      <td>2</td>\n",
       "      <td>The manifesto strongly emphasizes increasing s...</td>\n",
       "      <td>0.656897</td>\n",
       "      <td>[{'role': 'system', 'content': 'You are an exp...</td>\n",
       "      <td>../data/plaintext/0 Calibration - HUN 2010 Soc...</td>\n",
       "      <td>taxation</td>\n",
       "    </tr>\n",
       "    <tr>\n",
       "      <th>2</th>\n",
       "      <td>2</td>\n",
       "      <td>The manifesto emphasizes significant increases...</td>\n",
       "      <td>0.763785</td>\n",
       "      <td>[{'role': 'system', 'content': 'You are an exp...</td>\n",
       "      <td>../data/plaintext/0 Calibration - HUN 2010 Soc...</td>\n",
       "      <td>taxation</td>\n",
       "    </tr>\n",
       "    <tr>\n",
       "      <th>3</th>\n",
       "      <td>2</td>\n",
       "      <td>The manifesto strongly favors improving public...</td>\n",
       "      <td>0.843121</td>\n",
       "      <td>[{'role': 'system', 'content': 'You are highly...</td>\n",
       "      <td>../data/plaintext/0 Calibration - HUN 2010 Soc...</td>\n",
       "      <td>taxation</td>\n",
       "    </tr>\n",
       "    <tr>\n",
       "      <th>4</th>\n",
       "      <td>2</td>\n",
       "      <td>The manifesto strongly emphasizes increasing s...</td>\n",
       "      <td>0.767837</td>\n",
       "      <td>[{'role': 'system', 'content': 'You are highly...</td>\n",
       "      <td>../data/plaintext/0 Calibration - HUN 2010 Soc...</td>\n",
       "      <td>taxation</td>\n",
       "    </tr>\n",
       "    <tr>\n",
       "      <th>5</th>\n",
       "      <td>1</td>\n",
       "      <td>The manifesto strongly favors improving public...</td>\n",
       "      <td>0.480271</td>\n",
       "      <td>[{'role': 'system', 'content': 'You are highly...</td>\n",
       "      <td>../data/plaintext/0 Calibration - HUN 2010 Soc...</td>\n",
       "      <td>taxation</td>\n",
       "    </tr>\n",
       "    <tr>\n",
       "      <th>6</th>\n",
       "      <td>2</td>\n",
       "      <td>The manifesto strongly favors increasing publi...</td>\n",
       "      <td>0.740534</td>\n",
       "      <td>[{'role': 'system', 'content': 'You are a prof...</td>\n",
       "      <td>../data/plaintext/0 Calibration - HUN 2010 Soc...</td>\n",
       "      <td>taxation</td>\n",
       "    </tr>\n",
       "    <tr>\n",
       "      <th>7</th>\n",
       "      <td>2</td>\n",
       "      <td>The manifesto strongly emphasizes increasing s...</td>\n",
       "      <td>0.793100</td>\n",
       "      <td>[{'role': 'system', 'content': 'You are a prof...</td>\n",
       "      <td>../data/plaintext/0 Calibration - HUN 2010 Soc...</td>\n",
       "      <td>taxation</td>\n",
       "    </tr>\n",
       "    <tr>\n",
       "      <th>8</th>\n",
       "      <td>2</td>\n",
       "      <td>The manifesto strongly favors increasing publi...</td>\n",
       "      <td>0.638802</td>\n",
       "      <td>[{'role': 'system', 'content': 'You are a prof...</td>\n",
       "      <td>../data/plaintext/0 Calibration - HUN 2010 Soc...</td>\n",
       "      <td>taxation</td>\n",
       "    </tr>\n",
       "  </tbody>\n",
       "</table>\n",
       "</div>"
      ],
      "text/plain": [
       "   score                                        explanation      prob  \\\n",
       "0      2  The manifesto strongly emphasizes increasing s...  0.773219   \n",
       "1      2  The manifesto strongly emphasizes increasing s...  0.656897   \n",
       "2      2  The manifesto emphasizes significant increases...  0.763785   \n",
       "3      2  The manifesto strongly favors improving public...  0.843121   \n",
       "4      2  The manifesto strongly emphasizes increasing s...  0.767837   \n",
       "5      1  The manifesto strongly favors improving public...  0.480271   \n",
       "6      2  The manifesto strongly favors increasing publi...  0.740534   \n",
       "7      2  The manifesto strongly emphasizes increasing s...  0.793100   \n",
       "8      2  The manifesto strongly favors increasing publi...  0.638802   \n",
       "\n",
       "                                              prompt  \\\n",
       "0  [{'role': 'system', 'content': 'You are an exp...   \n",
       "1  [{'role': 'system', 'content': 'You are an exp...   \n",
       "2  [{'role': 'system', 'content': 'You are an exp...   \n",
       "3  [{'role': 'system', 'content': 'You are highly...   \n",
       "4  [{'role': 'system', 'content': 'You are highly...   \n",
       "5  [{'role': 'system', 'content': 'You are highly...   \n",
       "6  [{'role': 'system', 'content': 'You are a prof...   \n",
       "7  [{'role': 'system', 'content': 'You are a prof...   \n",
       "8  [{'role': 'system', 'content': 'You are a prof...   \n",
       "\n",
       "                                            filepath issue_area  \n",
       "0  ../data/plaintext/0 Calibration - HUN 2010 Soc...   taxation  \n",
       "1  ../data/plaintext/0 Calibration - HUN 2010 Soc...   taxation  \n",
       "2  ../data/plaintext/0 Calibration - HUN 2010 Soc...   taxation  \n",
       "3  ../data/plaintext/0 Calibration - HUN 2010 Soc...   taxation  \n",
       "4  ../data/plaintext/0 Calibration - HUN 2010 Soc...   taxation  \n",
       "5  ../data/plaintext/0 Calibration - HUN 2010 Soc...   taxation  \n",
       "6  ../data/plaintext/0 Calibration - HUN 2010 Soc...   taxation  \n",
       "7  ../data/plaintext/0 Calibration - HUN 2010 Soc...   taxation  \n",
       "8  ../data/plaintext/0 Calibration - HUN 2010 Soc...   taxation  "
      ]
     },
     "execution_count": 11,
     "metadata": {},
     "output_type": "execute_result"
    }
   ],
   "source": [
    "# Display the results in a DataFrame\n",
    "df_results = pd.DataFrame(results)\n",
    "df_results['filepath'] = filepath\n",
    "df_results['issue_area'] = issue_area\n",
    "df_results"
   ]
  },
  {
   "cell_type": "code",
   "execution_count": 16,
   "metadata": {},
   "outputs": [
    {
     "data": {
      "text/plain": [
       "<Axes: xlabel='score'>"
      ]
     },
     "execution_count": 16,
     "metadata": {},
     "output_type": "execute_result"
    },
    {
     "data": {
      "image/png": "[encoded data removed]",
      "text/plain": [
       "<Figure size 640x480 with 1 Axes>"
      ]
     },
     "metadata": {},
     "output_type": "display_data"
    }
   ],
   "source": [
    "df_results.score.value_counts().plot.bar()"
   ]
  },
  {
   "cell_type": "code",
   "execution_count": 9,
   "metadata": {},
   "outputs": [],
   "source": [
    "df_results.to_excel('../data/results/manifesto_analysis_results.xlsx', index=False)"
   ]
  },
  {
   "cell_type": "code",
   "execution_count": null,
   "metadata": {},
   "outputs": [],
   "source": []
  }
 ],
 "metadata": {
  "kernelspec": {
   "display_name": "data_analysis",
   "language": "python",
   "name": "python3"
  },
  "language_info": {
   "codemirror_mode": {
    "name": "ipython",
    "version": 3
   },
   "file_extension": ".py",
   "mimetype": "text/x-python",
   "name": "python",
   "nbconvert_exporter": "python",
   "pygments_lexer": "ipython3",
   "version": "3.1.-1"
  }
 },
 "nbformat": 4,
 "nbformat_minor": 2
}
