{
 "cells": [
  {
   "cell_type": "code",
   "id": "initial_id",
   "metadata": {
    "collapsed": true
   },
   "source": [
    "import os\n",
    "from itertools import chain\n",
    "from dotenv import load_dotenv\n",
    "from llm_political_analysis.modules.summarize import summarize_file\n",
    "\n",
    "load_dotenv()"
   ],
   "outputs": [],
   "execution_count": null
  },
  {
   "metadata": {},
   "cell_type": "code",
   "source": [
    "plain_text_file_folders = [\n",
    "    os.path.join(\"..\", \"data\", \"plaintext\", \"new_calibration\"),\n",
    "    os.path.join(\"..\", \"data\", \"plaintext\", \"new_test\"),\n",
    "]\n",
    "\n",
    "plain_text_files = list(chain(*[\n",
    "    [os.path.join(folder, filename) for filename in os.listdir(folder)]\n",
    "    for folder in plain_text_file_folders\n",
    "]))"
   ],
   "id": "437c369f1ce0e83c",
   "outputs": [],
   "execution_count": null
  },
  {
   "metadata": {},
   "cell_type": "code",
   "source": "issue_areas = ['european_union', 'taxation', 'lifestyle', 'immigration', 'environment', 'decentralization']",
   "id": "8236ce5bbbb2dbe7",
   "outputs": [],
   "execution_count": null
  },
  {
   "metadata": {},
   "cell_type": "code",
   "source": [
    "# summarize_sizes = [(500, 1000), (1000, 1500), (1500, 2000)]\n",
    "summarize_sizes = [(500, 1000)]"
   ],
   "id": "1785e50b4606e5b5",
   "outputs": [],
   "execution_count": null
  },
  {
   "metadata": {},
   "cell_type": "code",
   "source": [
    "for summary_size in summarize_sizes:\n",
    "    output_dir = os.path.join(\"..\", \"data\", \"results\", f\"240814_summary_new_prompt_{summary_size[0]}-{summary_size[1]}\")\n",
    "    os.makedirs(output_dir)\n",
    "\n",
    "    for filepath in plain_text_files:\n",
    "        summarize_file(\n",
    "            filepath, issue_areas, output_dir, summary_size=summary_size\n",
    "        )"
   ],
   "id": "9ac1a152cedcfdc5",
   "outputs": [],
   "execution_count": null
  }
 ],
 "metadata": {
  "kernelspec": {
   "display_name": "Python 3",
   "language": "python",
   "name": "python3"
  },
  "language_info": {
   "codemirror_mode": {
    "name": "ipython",
    "version": 2
   },
   "file_extension": ".py",
   "mimetype": "text/x-python",
   "name": "python",
   "nbconvert_exporter": "python",
   "pygments_lexer": "ipython2",
   "version": "2.7.6"
  }
 },
 "nbformat": 4,
 "nbformat_minor": 5
}
